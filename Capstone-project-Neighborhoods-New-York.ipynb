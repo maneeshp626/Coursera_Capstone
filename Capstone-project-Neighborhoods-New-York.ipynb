{
 "cells": [
  {
   "cell_type": "markdown",
   "metadata": {},
   "source": [
    "## Capstone Project - The Battle of the Neighborhoods (New York) (Week 1)"
   ]
  },
  {
   "cell_type": "markdown",
   "metadata": {},
   "source": [
    "## Table of contents\n",
    "* [Introduction: Business Problem](#introduction)\n",
    "* [Data](#data)"
   ]
  },
  {
   "cell_type": "markdown",
   "metadata": {},
   "source": [
    "## Introduction: Business Problem <a name=\"introduction\"></a>"
   ]
  },
  {
   "cell_type": "markdown",
   "metadata": {},
   "source": [
    "In this Capstone project I am trying to figure out the most popular venue in New York city and to find out the optimal location/neighborhood that is not already crowded with that popular venue. I am also trying to analyse the venue in each Borough in New York city. Specifically, this report will be targeted to stakeholders interested in looking most popular venue in New York city and to find appropriate location that is not already crowded.\n",
    "\n",
    "Since there are lots of variety of venues in New York, we will try to detect **Most popular venue and location that are not already crowded with that venue**. We would also prefer locations **as close to city as possible that covers most nearby neighborhoods**, assuming that first two conditions are met."
   ]
  },
  {
   "cell_type": "markdown",
   "metadata": {},
   "source": [
    "## Data <a name=\"data\"></a>"
   ]
  },
  {
   "cell_type": "markdown",
   "metadata": {},
   "source": [
    "As per my problem description, below mentioned factors will influence my decision:\n",
    "* Variety of venues in the neighborhood.\n",
    "* Number of different venue type in each Borough.\n",
    "* Number of neighborhoods in each Borough that is not already crowded with most popular venue.\n",
    "* Location of each uncrowded neighborhood to cluster them and find out highly dense cluster.\n",
    "\n",
    "I will be using the following data sources to extract the required information:\n",
    "* Raw data for New York city will be downloaded from external source.\n",
    "* Bourough, neighborhood and their latitude and longitude data will be extracted from downloaded data.\n",
    "* Number of venues, venue category and corresponding latitude and longitude of each venue in every neighborhood will be obtained using **Foursquare API**.\n",
    "\n",
    "So by using these information we will try to find out most common venue and optimal location for such venue. These neighborhood data will be clustered by using ***K-mean Clustering*** method to identify optimal group of neighborhoods which are not already crowded with most common venue. "
   ]
  }
 ],
 "metadata": {
  "kernelspec": {
   "display_name": "Python 3",
   "language": "python",
   "name": "python3"
  },
  "language_info": {
   "codemirror_mode": {
    "name": "ipython",
    "version": 3
   },
   "file_extension": ".py",
   "mimetype": "text/x-python",
   "name": "python",
   "nbconvert_exporter": "python",
   "pygments_lexer": "ipython3",
   "version": "3.8.1"
  },
  "widgets": {
   "state": {},
   "version": "1.1.2"
  }
 },
 "nbformat": 4,
 "nbformat_minor": 4
}
